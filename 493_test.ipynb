{
 "cells": [
  {
   "cell_type": "code",
   "execution_count": null,
   "id": "f61cd43f-9245-4a1b-a9a9-2bdea6e3f28c",
   "metadata": {},
   "outputs": [],
   "source": [
    "x= [10,20,30,40,50]\n",
    "y= [1,2,3,4,5]\n",
    "result = []\n",
    "for i in x:\n",
    "    for j in y:\n",
    "        result.append(i * j)\n",
    "\n",
    "print (result)"
   ]
  }
 ],
 "metadata": {
  "kernelspec": {
   "display_name": "Python 3 (ipykernel)",
   "language": "python",
   "name": "python3"
  },
  "language_info": {
   "codemirror_mode": {
    "name": "ipython",
    "version": 3
   },
   "file_extension": ".py",
   "mimetype": "text/x-python",
   "name": "python",
   "nbconvert_exporter": "python",
   "pygments_lexer": "ipython3",
   "version": "3.12.4"
  }
 },
 "nbformat": 4,
 "nbformat_minor": 5
}
